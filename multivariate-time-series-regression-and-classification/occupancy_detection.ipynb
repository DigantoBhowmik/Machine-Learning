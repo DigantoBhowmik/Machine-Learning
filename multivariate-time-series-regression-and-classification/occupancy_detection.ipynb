{
 "cells": [
  {
   "cell_type": "code",
   "execution_count": 57,
   "metadata": {},
   "outputs": [],
   "source": [
    "from scipy.io import arff\n",
    "import pandas as pd\n",
    "import matplotlib.pyplot as plt\n",
    "from scipy import stats\n",
    "import seaborn as sns \n",
    "from sklearn.metrics import mean_squared_error\n",
    "import numpy as np\n",
    "import tensorflow as tf\n",
    "from tensorflow import keras\n",
    "from tensorflow.keras.utils import Sequence\n",
    "from tensorflow.keras.layers import LSTM\n",
    "from tensorflow.keras.layers import Dense\n",
    "from sklearn.model_selection import train_test_split\n",
    "from sklearn.preprocessing import MinMaxScaler\n",
    "import math\n",
    "from sklearn.model_selection import train_test_split, GridSearchCV\n",
    "from sklearn.metrics import confusion_matrix,accuracy_score,classification_report\n",
    "from sklearn.svm import SVC\n",
    "from sklearn.neural_network import MLPClassifier\n",
    "from sklearn.neighbors import KNeighborsClassifier\n",
    "from tensorflow.keras.layers import Dense, Activation, Flatten, concatenate, Input, Dropout, LSTM, Bidirectional,BatchNormalization,PReLU,ReLU,Reshape"
   ]
  },
  {
   "cell_type": "markdown",
   "metadata": {},
   "source": [
    "# Load Dataset"
   ]
  },
  {
   "cell_type": "code",
   "execution_count": 58,
   "metadata": {},
   "outputs": [],
   "source": [
    "datatest = pd.read_csv(\"occupancy+detection/datatest.txt\")\n",
    "datatest2 = pd.read_csv(\"occupancy+detection/datatest2.txt\")\n",
    "datatraining = pd.read_csv(\"occupancy+detection/datatraining.txt\")"
   ]
  },
  {
   "cell_type": "markdown",
   "metadata": {},
   "source": [
    "# EDA"
   ]
  },
  {
   "cell_type": "code",
   "execution_count": 59,
   "metadata": {},
   "outputs": [
    {
     "name": "stdout",
     "output_type": "stream",
     "text": [
      "<class 'pandas.core.frame.DataFrame'>\n",
      "Index: 2665 entries, 140 to 2804\n",
      "Data columns (total 7 columns):\n",
      " #   Column         Non-Null Count  Dtype  \n",
      "---  ------         --------------  -----  \n",
      " 0   date           2665 non-null   object \n",
      " 1   Temperature    2665 non-null   float64\n",
      " 2   Humidity       2665 non-null   float64\n",
      " 3   Light          2665 non-null   float64\n",
      " 4   CO2            2665 non-null   float64\n",
      " 5   HumidityRatio  2665 non-null   float64\n",
      " 6   Occupancy      2665 non-null   int64  \n",
      "dtypes: float64(5), int64(1), object(1)\n",
      "memory usage: 166.6+ KB\n",
      "None\n"
     ]
    },
    {
     "data": {
      "text/html": [
       "<div>\n",
       "<style scoped>\n",
       "    .dataframe tbody tr th:only-of-type {\n",
       "        vertical-align: middle;\n",
       "    }\n",
       "\n",
       "    .dataframe tbody tr th {\n",
       "        vertical-align: top;\n",
       "    }\n",
       "\n",
       "    .dataframe thead th {\n",
       "        text-align: right;\n",
       "    }\n",
       "</style>\n",
       "<table border=\"1\" class=\"dataframe\">\n",
       "  <thead>\n",
       "    <tr style=\"text-align: right;\">\n",
       "      <th></th>\n",
       "      <th>date</th>\n",
       "      <th>Temperature</th>\n",
       "      <th>Humidity</th>\n",
       "      <th>Light</th>\n",
       "      <th>CO2</th>\n",
       "      <th>HumidityRatio</th>\n",
       "      <th>Occupancy</th>\n",
       "    </tr>\n",
       "  </thead>\n",
       "  <tbody>\n",
       "    <tr>\n",
       "      <th>140</th>\n",
       "      <td>2015-02-02 14:19:00</td>\n",
       "      <td>23.7000</td>\n",
       "      <td>26.272</td>\n",
       "      <td>585.200000</td>\n",
       "      <td>749.200000</td>\n",
       "      <td>0.004764</td>\n",
       "      <td>1</td>\n",
       "    </tr>\n",
       "    <tr>\n",
       "      <th>141</th>\n",
       "      <td>2015-02-02 14:19:59</td>\n",
       "      <td>23.7180</td>\n",
       "      <td>26.290</td>\n",
       "      <td>578.400000</td>\n",
       "      <td>760.400000</td>\n",
       "      <td>0.004773</td>\n",
       "      <td>1</td>\n",
       "    </tr>\n",
       "    <tr>\n",
       "      <th>142</th>\n",
       "      <td>2015-02-02 14:21:00</td>\n",
       "      <td>23.7300</td>\n",
       "      <td>26.230</td>\n",
       "      <td>572.666667</td>\n",
       "      <td>769.666667</td>\n",
       "      <td>0.004765</td>\n",
       "      <td>1</td>\n",
       "    </tr>\n",
       "    <tr>\n",
       "      <th>143</th>\n",
       "      <td>2015-02-02 14:22:00</td>\n",
       "      <td>23.7225</td>\n",
       "      <td>26.125</td>\n",
       "      <td>493.750000</td>\n",
       "      <td>774.750000</td>\n",
       "      <td>0.004744</td>\n",
       "      <td>1</td>\n",
       "    </tr>\n",
       "    <tr>\n",
       "      <th>144</th>\n",
       "      <td>2015-02-02 14:23:00</td>\n",
       "      <td>23.7540</td>\n",
       "      <td>26.200</td>\n",
       "      <td>488.600000</td>\n",
       "      <td>779.000000</td>\n",
       "      <td>0.004767</td>\n",
       "      <td>1</td>\n",
       "    </tr>\n",
       "  </tbody>\n",
       "</table>\n",
       "</div>"
      ],
      "text/plain": [
       "                    date  Temperature  Humidity       Light         CO2   \n",
       "140  2015-02-02 14:19:00      23.7000    26.272  585.200000  749.200000  \\\n",
       "141  2015-02-02 14:19:59      23.7180    26.290  578.400000  760.400000   \n",
       "142  2015-02-02 14:21:00      23.7300    26.230  572.666667  769.666667   \n",
       "143  2015-02-02 14:22:00      23.7225    26.125  493.750000  774.750000   \n",
       "144  2015-02-02 14:23:00      23.7540    26.200  488.600000  779.000000   \n",
       "\n",
       "     HumidityRatio  Occupancy  \n",
       "140       0.004764          1  \n",
       "141       0.004773          1  \n",
       "142       0.004765          1  \n",
       "143       0.004744          1  \n",
       "144       0.004767          1  "
      ]
     },
     "execution_count": 59,
     "metadata": {},
     "output_type": "execute_result"
    }
   ],
   "source": [
    "print(datatest.info())\n",
    "datatest.head()"
   ]
  },
  {
   "cell_type": "code",
   "execution_count": 60,
   "metadata": {},
   "outputs": [
    {
     "name": "stdout",
     "output_type": "stream",
     "text": [
      "<class 'pandas.core.frame.DataFrame'>\n",
      "Index: 9752 entries, 1 to 9752\n",
      "Data columns (total 7 columns):\n",
      " #   Column         Non-Null Count  Dtype  \n",
      "---  ------         --------------  -----  \n",
      " 0   date           9752 non-null   object \n",
      " 1   Temperature    9752 non-null   float64\n",
      " 2   Humidity       9752 non-null   float64\n",
      " 3   Light          9752 non-null   float64\n",
      " 4   CO2            9752 non-null   float64\n",
      " 5   HumidityRatio  9752 non-null   float64\n",
      " 6   Occupancy      9752 non-null   int64  \n",
      "dtypes: float64(5), int64(1), object(1)\n",
      "memory usage: 609.5+ KB\n",
      "None\n"
     ]
    },
    {
     "data": {
      "text/html": [
       "<div>\n",
       "<style scoped>\n",
       "    .dataframe tbody tr th:only-of-type {\n",
       "        vertical-align: middle;\n",
       "    }\n",
       "\n",
       "    .dataframe tbody tr th {\n",
       "        vertical-align: top;\n",
       "    }\n",
       "\n",
       "    .dataframe thead th {\n",
       "        text-align: right;\n",
       "    }\n",
       "</style>\n",
       "<table border=\"1\" class=\"dataframe\">\n",
       "  <thead>\n",
       "    <tr style=\"text-align: right;\">\n",
       "      <th></th>\n",
       "      <th>date</th>\n",
       "      <th>Temperature</th>\n",
       "      <th>Humidity</th>\n",
       "      <th>Light</th>\n",
       "      <th>CO2</th>\n",
       "      <th>HumidityRatio</th>\n",
       "      <th>Occupancy</th>\n",
       "    </tr>\n",
       "  </thead>\n",
       "  <tbody>\n",
       "    <tr>\n",
       "      <th>1</th>\n",
       "      <td>2015-02-11 14:48:00</td>\n",
       "      <td>21.7600</td>\n",
       "      <td>31.133333</td>\n",
       "      <td>437.333333</td>\n",
       "      <td>1029.666667</td>\n",
       "      <td>0.005021</td>\n",
       "      <td>1</td>\n",
       "    </tr>\n",
       "    <tr>\n",
       "      <th>2</th>\n",
       "      <td>2015-02-11 14:49:00</td>\n",
       "      <td>21.7900</td>\n",
       "      <td>31.000000</td>\n",
       "      <td>437.333333</td>\n",
       "      <td>1000.000000</td>\n",
       "      <td>0.005009</td>\n",
       "      <td>1</td>\n",
       "    </tr>\n",
       "    <tr>\n",
       "      <th>3</th>\n",
       "      <td>2015-02-11 14:50:00</td>\n",
       "      <td>21.7675</td>\n",
       "      <td>31.122500</td>\n",
       "      <td>434.000000</td>\n",
       "      <td>1003.750000</td>\n",
       "      <td>0.005022</td>\n",
       "      <td>1</td>\n",
       "    </tr>\n",
       "    <tr>\n",
       "      <th>4</th>\n",
       "      <td>2015-02-11 14:51:00</td>\n",
       "      <td>21.7675</td>\n",
       "      <td>31.122500</td>\n",
       "      <td>439.000000</td>\n",
       "      <td>1009.500000</td>\n",
       "      <td>0.005022</td>\n",
       "      <td>1</td>\n",
       "    </tr>\n",
       "    <tr>\n",
       "      <th>5</th>\n",
       "      <td>2015-02-11 14:51:59</td>\n",
       "      <td>21.7900</td>\n",
       "      <td>31.133333</td>\n",
       "      <td>437.333333</td>\n",
       "      <td>1005.666667</td>\n",
       "      <td>0.005030</td>\n",
       "      <td>1</td>\n",
       "    </tr>\n",
       "  </tbody>\n",
       "</table>\n",
       "</div>"
      ],
      "text/plain": [
       "                  date  Temperature   Humidity       Light          CO2   \n",
       "1  2015-02-11 14:48:00      21.7600  31.133333  437.333333  1029.666667  \\\n",
       "2  2015-02-11 14:49:00      21.7900  31.000000  437.333333  1000.000000   \n",
       "3  2015-02-11 14:50:00      21.7675  31.122500  434.000000  1003.750000   \n",
       "4  2015-02-11 14:51:00      21.7675  31.122500  439.000000  1009.500000   \n",
       "5  2015-02-11 14:51:59      21.7900  31.133333  437.333333  1005.666667   \n",
       "\n",
       "   HumidityRatio  Occupancy  \n",
       "1       0.005021          1  \n",
       "2       0.005009          1  \n",
       "3       0.005022          1  \n",
       "4       0.005022          1  \n",
       "5       0.005030          1  "
      ]
     },
     "execution_count": 60,
     "metadata": {},
     "output_type": "execute_result"
    }
   ],
   "source": [
    "print(datatest2.info())\n",
    "datatest2.head()"
   ]
  },
  {
   "cell_type": "code",
   "execution_count": 61,
   "metadata": {},
   "outputs": [
    {
     "name": "stdout",
     "output_type": "stream",
     "text": [
      "<class 'pandas.core.frame.DataFrame'>\n",
      "Index: 8143 entries, 1 to 8143\n",
      "Data columns (total 7 columns):\n",
      " #   Column         Non-Null Count  Dtype  \n",
      "---  ------         --------------  -----  \n",
      " 0   date           8143 non-null   object \n",
      " 1   Temperature    8143 non-null   float64\n",
      " 2   Humidity       8143 non-null   float64\n",
      " 3   Light          8143 non-null   float64\n",
      " 4   CO2            8143 non-null   float64\n",
      " 5   HumidityRatio  8143 non-null   float64\n",
      " 6   Occupancy      8143 non-null   int64  \n",
      "dtypes: float64(5), int64(1), object(1)\n",
      "memory usage: 508.9+ KB\n",
      "None\n"
     ]
    },
    {
     "data": {
      "text/html": [
       "<div>\n",
       "<style scoped>\n",
       "    .dataframe tbody tr th:only-of-type {\n",
       "        vertical-align: middle;\n",
       "    }\n",
       "\n",
       "    .dataframe tbody tr th {\n",
       "        vertical-align: top;\n",
       "    }\n",
       "\n",
       "    .dataframe thead th {\n",
       "        text-align: right;\n",
       "    }\n",
       "</style>\n",
       "<table border=\"1\" class=\"dataframe\">\n",
       "  <thead>\n",
       "    <tr style=\"text-align: right;\">\n",
       "      <th></th>\n",
       "      <th>date</th>\n",
       "      <th>Temperature</th>\n",
       "      <th>Humidity</th>\n",
       "      <th>Light</th>\n",
       "      <th>CO2</th>\n",
       "      <th>HumidityRatio</th>\n",
       "      <th>Occupancy</th>\n",
       "    </tr>\n",
       "  </thead>\n",
       "  <tbody>\n",
       "    <tr>\n",
       "      <th>1</th>\n",
       "      <td>2015-02-04 17:51:00</td>\n",
       "      <td>23.18</td>\n",
       "      <td>27.2720</td>\n",
       "      <td>426.0</td>\n",
       "      <td>721.25</td>\n",
       "      <td>0.004793</td>\n",
       "      <td>1</td>\n",
       "    </tr>\n",
       "    <tr>\n",
       "      <th>2</th>\n",
       "      <td>2015-02-04 17:51:59</td>\n",
       "      <td>23.15</td>\n",
       "      <td>27.2675</td>\n",
       "      <td>429.5</td>\n",
       "      <td>714.00</td>\n",
       "      <td>0.004783</td>\n",
       "      <td>1</td>\n",
       "    </tr>\n",
       "    <tr>\n",
       "      <th>3</th>\n",
       "      <td>2015-02-04 17:53:00</td>\n",
       "      <td>23.15</td>\n",
       "      <td>27.2450</td>\n",
       "      <td>426.0</td>\n",
       "      <td>713.50</td>\n",
       "      <td>0.004779</td>\n",
       "      <td>1</td>\n",
       "    </tr>\n",
       "    <tr>\n",
       "      <th>4</th>\n",
       "      <td>2015-02-04 17:54:00</td>\n",
       "      <td>23.15</td>\n",
       "      <td>27.2000</td>\n",
       "      <td>426.0</td>\n",
       "      <td>708.25</td>\n",
       "      <td>0.004772</td>\n",
       "      <td>1</td>\n",
       "    </tr>\n",
       "    <tr>\n",
       "      <th>5</th>\n",
       "      <td>2015-02-04 17:55:00</td>\n",
       "      <td>23.10</td>\n",
       "      <td>27.2000</td>\n",
       "      <td>426.0</td>\n",
       "      <td>704.50</td>\n",
       "      <td>0.004757</td>\n",
       "      <td>1</td>\n",
       "    </tr>\n",
       "  </tbody>\n",
       "</table>\n",
       "</div>"
      ],
      "text/plain": [
       "                  date  Temperature  Humidity  Light     CO2  HumidityRatio   \n",
       "1  2015-02-04 17:51:00        23.18   27.2720  426.0  721.25       0.004793  \\\n",
       "2  2015-02-04 17:51:59        23.15   27.2675  429.5  714.00       0.004783   \n",
       "3  2015-02-04 17:53:00        23.15   27.2450  426.0  713.50       0.004779   \n",
       "4  2015-02-04 17:54:00        23.15   27.2000  426.0  708.25       0.004772   \n",
       "5  2015-02-04 17:55:00        23.10   27.2000  426.0  704.50       0.004757   \n",
       "\n",
       "   Occupancy  \n",
       "1          1  \n",
       "2          1  \n",
       "3          1  \n",
       "4          1  \n",
       "5          1  "
      ]
     },
     "execution_count": 61,
     "metadata": {},
     "output_type": "execute_result"
    }
   ],
   "source": [
    "print(datatraining.info())\n",
    "datatraining.head()"
   ]
  },
  {
   "cell_type": "markdown",
   "metadata": {},
   "source": [
    "All text files has seven columns as date, temperature, humidity, light, CO2, humidity ratio and occupancy.\n",
    "\n",
    "- Temperature in Celsius.\n",
    "- Relative humidity as a percentage.\n",
    "- Light measured in lux.\n",
    "- Carbon dioxide measured in parts per million.\n",
    "- Humidity ratio, derived from temperature and relative humidity measured in kilograms of water vapor per kilogram of air.\n",
    "- Occupancy as either 1 for occupied or 0 for not occupied."
   ]
  },
  {
   "cell_type": "code",
   "execution_count": 62,
   "metadata": {},
   "outputs": [],
   "source": [
    "datatest['date'] = pd.to_datetime(datatest['date'])\n",
    "datatest2['date'] = pd.to_datetime(datatest2['date'])\n",
    "datatraining['date'] = pd.to_datetime(datatraining['date'])\n",
    "datatest.reset_index(drop=True, inplace=True)\n",
    "datatest2.reset_index(drop=True, inplace=True)\n",
    "datatraining.reset_index(drop=True, inplace=True)"
   ]
  },
  {
   "cell_type": "code",
   "execution_count": 63,
   "metadata": {},
   "outputs": [
    {
     "name": "stdout",
     "output_type": "stream",
     "text": [
      "<class 'pandas.core.frame.DataFrame'>\n",
      "RangeIndex: 8143 entries, 0 to 8142\n",
      "Data columns (total 7 columns):\n",
      " #   Column         Non-Null Count  Dtype         \n",
      "---  ------         --------------  -----         \n",
      " 0   date           8143 non-null   datetime64[ns]\n",
      " 1   Temperature    8143 non-null   float64       \n",
      " 2   Humidity       8143 non-null   float64       \n",
      " 3   Light          8143 non-null   float64       \n",
      " 4   CO2            8143 non-null   float64       \n",
      " 5   HumidityRatio  8143 non-null   float64       \n",
      " 6   Occupancy      8143 non-null   int64         \n",
      "dtypes: datetime64[ns](1), float64(5), int64(1)\n",
      "memory usage: 445.4 KB\n"
     ]
    }
   ],
   "source": [
    "datatraining.info()"
   ]
  },
  {
   "cell_type": "code",
   "execution_count": 64,
   "metadata": {},
   "outputs": [],
   "source": [
    "scaler = MinMaxScaler()\n",
    "columns = ['Temperature', 'Humidity', 'Light', 'CO2', 'HumidityRatio']\n",
    "scaler.fit(np.array(datatraining[columns]))\n",
    "datatest[columns] = scaler.transform(np.array(datatest[columns]))\n",
    "datatest2[columns] = scaler.transform(np.array(datatest2[columns]))\n",
    "datatraining[columns] = scaler.transform(np.array(datatraining[columns]))"
   ]
  },
  {
   "cell_type": "code",
   "execution_count": 65,
   "metadata": {},
   "outputs": [
    {
     "name": "stdout",
     "output_type": "stream",
     "text": [
      "       Temperature     Humidity        Light          CO2  HumidityRatio\n",
      "count  8143.000000  8143.000000  8143.000000  8143.000000    8143.000000\n",
      "mean      0.387341     0.401676     0.077292     0.119942       0.312576\n",
      "std       0.243281     0.247233     0.125947     0.194536       0.224186\n",
      "min       0.000000     0.000000     0.000000     0.000000       0.000000\n",
      "25%       0.167464     0.154431     0.000000     0.016246       0.106304\n",
      "50%       0.332536     0.423623     0.000000     0.025220       0.296338\n",
      "75%       0.571770     0.616307     0.165795     0.139925       0.441308\n",
      "max       1.000000     1.000000     1.000000     1.000000       1.000000\n"
     ]
    },
    {
     "data": {
      "image/png": "[encoded data removed]",
      "text/plain": [
       "<Figure size 1000x1000 with 1 Axes>"
      ]
     },
     "metadata": {},
     "output_type": "display_data"
    }
   ],
   "source": [
    "plt.figure(figsize=(10,10))\n",
    "plt.title('Box Plot for Features', fontdict={'fontsize':18})\n",
    "ax = sns.boxplot(data=datatraining.drop(['date', 'Occupancy'],axis=1), orient=\"h\", palette=\"Set2\")\n",
    "print(datatraining.drop(['date', 'Occupancy'],axis=1).describe())"
   ]
  },
  {
   "cell_type": "code",
   "execution_count": 66,
   "metadata": {},
   "outputs": [
    {
     "data": {
      "image/png": "[encoded data removed]",
      "text/plain": [
       "<Figure size 1000x800 with 2 Axes>"
      ]
     },
     "metadata": {},
     "output_type": "display_data"
    }
   ],
   "source": [
    "plt.figure(figsize=(10,8))\n",
    "plt.title('Correlation Table for Features', fontdict={'fontsize':18})\n",
    "ax = sns.heatmap(datatraining.corr(), annot=True, linewidths=.2)"
   ]
  },
  {
   "cell_type": "code",
   "execution_count": 67,
   "metadata": {},
   "outputs": [
    {
     "data": {
      "image/png": "[encoded data removed]",
      "text/plain": [
       "<Figure size 1000x500 with 1 Axes>"
      ]
     },
     "metadata": {},
     "output_type": "display_data"
    }
   ],
   "source": [
    "data = datatraining.copy()\n",
    "data.Occupancy = data.Occupancy.astype(str)\n",
    "#plotting the data\n",
    "plt.figure(figsize=(10,5))\n",
    "sns.countplot(x='Occupancy',data=data)\n",
    "plt.title('Occupancy Detection')\n",
    "plt.show()"
   ]
  },
  {
   "cell_type": "markdown",
   "metadata": {},
   "source": [
    "# Split data into train and test"
   ]
  },
  {
   "cell_type": "code",
   "execution_count": 68,
   "metadata": {},
   "outputs": [],
   "source": [
    "X_train = datatraining.drop(columns=['date', 'Occupancy'], axis=1)\n",
    "y_train = datatraining['Occupancy']\n",
    "X_test = datatest.drop(columns=['date', 'Occupancy'], axis=1)\n",
    "y_test = datatest['Occupancy']"
   ]
  },
  {
   "cell_type": "markdown",
   "metadata": {},
   "source": [
    "# SVM"
   ]
  },
  {
   "cell_type": "code",
   "execution_count": 69,
   "metadata": {},
   "outputs": [
    {
     "name": "stdout",
     "output_type": "stream",
     "text": [
      "The Accuracy is :0.975234521575985\n"
     ]
    }
   ],
   "source": [
    "from sklearn import svm\n",
    "from sklearn.svm import SVC\n",
    "#SVM classification\n",
    "svm = SVC()\n",
    "svm.fit(X_train, y_train)\n",
    "#predicting with svm\n",
    "svm_pred = svm.predict(X_test)\n",
    "svm_acc = accuracy_score(y_test, svm_pred)\n",
    "print(f\"The Accuracy is :{svm_acc}\")"
   ]
  },
  {
   "cell_type": "markdown",
   "metadata": {},
   "source": [
    "# KNN"
   ]
  },
  {
   "cell_type": "code",
   "execution_count": 70,
   "metadata": {},
   "outputs": [
    {
     "name": "stdout",
     "output_type": "stream",
     "text": [
      "Best value of hyperparameter k: 85\n"
     ]
    }
   ],
   "source": [
    "#Find the best value of hyperparameter\n",
    "r = 0\n",
    "i = 1\n",
    "k = 1\n",
    "while i <= math.sqrt(X_train.shape[0]):\n",
    "    knn= KNeighborsClassifier(i, weights='distance', algorithm='auto' , leaf_size= 20, metric= 'minkowski')  \n",
    "    knn.fit(X_train, y_train)\n",
    "    y_pred_knn=knn.predict(X_test)\n",
    "    r2 = accuracy_score(y_test,y_pred_knn)\n",
    "    if r2 > r:\n",
    "        r = r2\n",
    "        k = i\n",
    "    i += 1\n",
    "\n",
    "if(k%2 == 0):\n",
    "    k=k+1\n",
    "\n",
    "print(\"Best value of hyperparameter k:\", k)"
   ]
  },
  {
   "cell_type": "code",
   "execution_count": 71,
   "metadata": {},
   "outputs": [],
   "source": [
    "knn = KNeighborsClassifier(k, weights='distance', algorithm='auto', leaf_size= 20, metric= 'minkowski')  \n",
    "knn.fit(X_train, y_train)\n",
    "\n",
    "y_pred_knn=knn.predict(X_test)"
   ]
  },
  {
   "cell_type": "code",
   "execution_count": 72,
   "metadata": {},
   "outputs": [
    {
     "name": "stdout",
     "output_type": "stream",
     "text": [
      "The Accuracy is :0.9778611632270169\n"
     ]
    }
   ],
   "source": [
    "knn_acc = accuracy_score(y_test,y_pred_knn)\n",
    "print(f\"The Accuracy is :{knn_acc}\")"
   ]
  },
  {
   "cell_type": "markdown",
   "metadata": {},
   "source": [
    "# Decision Tree"
   ]
  },
  {
   "cell_type": "code",
   "execution_count": 73,
   "metadata": {},
   "outputs": [],
   "source": [
    "from sklearn.tree import DecisionTreeClassifier\n",
    "# Create the Decision Tree regression model\n",
    "tree_model = DecisionTreeClassifier(random_state=42)\n",
    "\n",
    "# Define the hyperparameter grid to search\n",
    "param_grid = {\n",
    "    'max_depth': [None, 10, 20, 30],\n",
    "    'min_samples_leaf': [1, 2, 4]\n",
    "}\n",
    "\n",
    "# Create the GridSearchCV object with cross-validation\n",
    "grid_search = GridSearchCV(tree_model, param_grid, cv=5)\n",
    "\n",
    "# Fit the GridSearchCV to the training data\n",
    "grid_search.fit(X_train, y_train)\n",
    "\n",
    "# Get the best hyperparameters and random state from the GridSearchCV\n",
    "best_params = grid_search.best_params_\n",
    "best_random_state = grid_search.best_estimator_.random_state\n",
    "\n",
    "# Create the final Decision Tree model with the best hyperparameters and random state\n",
    "final_tree_model = DecisionTreeClassifier(random_state=best_random_state, **best_params)\n",
    "\n",
    "# Fit the final model to the training data\n",
    "final_tree_model.fit(X_train, y_train)\n",
    "\n",
    "y_pred_tree=final_tree_model.predict(X_test)"
   ]
  },
  {
   "cell_type": "code",
   "execution_count": 74,
   "metadata": {},
   "outputs": [
    {
     "name": "stdout",
     "output_type": "stream",
     "text": [
      "The Accuracy is :0.8255159474671669\n"
     ]
    }
   ],
   "source": [
    "tree_acc = accuracy_score(y_test,y_pred_tree)\n",
    "print(f\"The Accuracy is :{tree_acc}\")"
   ]
  },
  {
   "cell_type": "markdown",
   "metadata": {},
   "source": [
    "# XgBoost"
   ]
  },
  {
   "cell_type": "code",
   "execution_count": 75,
   "metadata": {},
   "outputs": [
    {
     "name": "stdout",
     "output_type": "stream",
     "text": [
      "The Accuracy is :0.9433395872420263\n"
     ]
    }
   ],
   "source": [
    "import xgboost as xgb\n",
    "xgbc = xgb.XGBClassifier(random_state=42, eval_metric='logloss')\n",
    "predictor_xgb = xgbc.fit(X_train, y_train)\n",
    "y_pred = predictor_xgb.predict(X_test)\n",
    "xgb_acc = accuracy_score(y_test, y_pred)\n",
    "print(f\"The Accuracy is :{xgb_acc}\")"
   ]
  },
  {
   "cell_type": "markdown",
   "metadata": {},
   "source": [
    "# LSTM"
   ]
  },
  {
   "cell_type": "code",
   "execution_count": 83,
   "metadata": {},
   "outputs": [
    {
     "name": "stdout",
     "output_type": "stream",
     "text": [
      "Epoch 1/20\n",
      "117/117 [==============================] - 3s 16ms/step - loss: 0.6809 - accuracy: 0.8332 - val_loss: 0.3891 - val_accuracy: 0.8886\n",
      "Epoch 2/20\n",
      "117/117 [==============================] - 1s 6ms/step - loss: 0.3891 - accuracy: 0.8373 - val_loss: 0.9102 - val_accuracy: 0.7006\n",
      "Epoch 3/20\n",
      "117/117 [==============================] - 1s 5ms/step - loss: 0.4093 - accuracy: 0.8585 - val_loss: 0.7990 - val_accuracy: 0.7392\n",
      "Epoch 4/20\n",
      "117/117 [==============================] - 1s 5ms/step - loss: 0.4043 - accuracy: 0.8684 - val_loss: 1.1481 - val_accuracy: 0.7587\n",
      "Epoch 5/20\n",
      "117/117 [==============================] - 1s 5ms/step - loss: 0.3906 - accuracy: 0.8895 - val_loss: 1.0799 - val_accuracy: 0.7159\n",
      "Epoch 6/20\n",
      "117/117 [==============================] - 1s 5ms/step - loss: 0.5156 - accuracy: 0.8352 - val_loss: 0.5739 - val_accuracy: 0.7062\n",
      "Epoch 7/20\n",
      "117/117 [==============================] - 1s 5ms/step - loss: 0.3905 - accuracy: 0.8587 - val_loss: 0.7225 - val_accuracy: 0.6507\n",
      "Epoch 8/20\n",
      "117/117 [==============================] - 1s 6ms/step - loss: 0.5365 - accuracy: 0.8256 - val_loss: 0.4206 - val_accuracy: 0.8101\n",
      "Epoch 9/20\n",
      "117/117 [==============================] - 1s 6ms/step - loss: 0.3409 - accuracy: 0.8309 - val_loss: 0.6130 - val_accuracy: 0.7257\n",
      "Epoch 10/20\n",
      "117/117 [==============================] - 1s 6ms/step - loss: 0.3591 - accuracy: 0.8891 - val_loss: 0.6951 - val_accuracy: 0.6582\n",
      "Epoch 11/20\n",
      "117/117 [==============================] - 1s 5ms/step - loss: 0.3710 - accuracy: 0.8556 - val_loss: 0.4039 - val_accuracy: 0.8368\n"
     ]
    }
   ],
   "source": [
    "# Train the model\n",
    "model1=tf.keras.Sequential()\n",
    "model1.add(LSTM(100,input_shape=(5,1)))\n",
    "model1.add(tf.keras.layers.Dropout(0.2))\n",
    "model1.add(Dense(32))\n",
    "model1.add(Dense(16))\n",
    "model1.add(Dense(1))\n",
    "# model.compile(loss='mean_squared_error', optimizer='adam')\n",
    "opt_adam = keras.optimizers.Adam(learning_rate=0.001)\n",
    "model1.compile(optimizer=opt_adam,\n",
    "                  loss=['binary_crossentropy'],\n",
    "                  metrics=['accuracy'])\n",
    "history=model1.fit(X_train,y_train, epochs=20, batch_size=70,validation_data=(X_test,y_test),\n",
    "                  callbacks=[tf.keras.callbacks.EarlyStopping(monitor='val_loss',patience=10)],verbose=1,shuffle=False)\n",
    "# model.summary()"
   ]
  },
  {
   "cell_type": "code",
   "execution_count": 84,
   "metadata": {},
   "outputs": [
    {
     "name": "stdout",
     "output_type": "stream",
     "text": [
      "84/84 [==============================] - 0s 2ms/step - loss: 0.4039 - accuracy: 0.8368\n",
      "The Accuracy is :0.8367729783058167\n"
     ]
    }
   ],
   "source": [
    "lstm_acc = model1.evaluate(X_test, y_test)[1]\n",
    "print(f\"The Accuracy is :{lstm_acc}\")"
   ]
  },
  {
   "cell_type": "markdown",
   "metadata": {},
   "source": [
    "# Compare results"
   ]
  },
  {
   "cell_type": "code",
   "execution_count": 85,
   "metadata": {},
   "outputs": [
    {
     "data": {
      "text/html": [
       "<div>\n",
       "<style scoped>\n",
       "    .dataframe tbody tr th:only-of-type {\n",
       "        vertical-align: middle;\n",
       "    }\n",
       "\n",
       "    .dataframe tbody tr th {\n",
       "        vertical-align: top;\n",
       "    }\n",
       "\n",
       "    .dataframe thead th {\n",
       "        text-align: right;\n",
       "    }\n",
       "</style>\n",
       "<table border=\"1\" class=\"dataframe\">\n",
       "  <thead>\n",
       "    <tr style=\"text-align: right;\">\n",
       "      <th></th>\n",
       "      <th>Model</th>\n",
       "      <th>Score</th>\n",
       "    </tr>\n",
       "  </thead>\n",
       "  <tbody>\n",
       "    <tr>\n",
       "      <th>1</th>\n",
       "      <td>KNN</td>\n",
       "      <td>0.977861</td>\n",
       "    </tr>\n",
       "    <tr>\n",
       "      <th>0</th>\n",
       "      <td>SVM</td>\n",
       "      <td>0.975235</td>\n",
       "    </tr>\n",
       "    <tr>\n",
       "      <th>2</th>\n",
       "      <td>XgBoost</td>\n",
       "      <td>0.943340</td>\n",
       "    </tr>\n",
       "    <tr>\n",
       "      <th>4</th>\n",
       "      <td>LSTM</td>\n",
       "      <td>0.836773</td>\n",
       "    </tr>\n",
       "    <tr>\n",
       "      <th>3</th>\n",
       "      <td>Decision Tree</td>\n",
       "      <td>0.825516</td>\n",
       "    </tr>\n",
       "  </tbody>\n",
       "</table>\n",
       "</div>"
      ],
      "text/plain": [
       "           Model     Score\n",
       "1            KNN  0.977861\n",
       "0            SVM  0.975235\n",
       "2        XgBoost  0.943340\n",
       "4           LSTM  0.836773\n",
       "3  Decision Tree  0.825516"
      ]
     },
     "execution_count": 85,
     "metadata": {},
     "output_type": "execute_result"
    }
   ],
   "source": [
    "#sort by model by accuracy\n",
    "models = pd.DataFrame({\n",
    "    'Model': ['SVM', 'KNN', 'XgBoost', 'Decision Tree', 'LSTM'],\n",
    "    'Score': [svm_acc, knn_acc, xgb_acc, tree_acc, lstm_acc]})\n",
    "models = models.sort_values(by='Score', ascending=False)\n",
    "models"
   ]
  },
  {
   "cell_type": "markdown",
   "metadata": {},
   "source": [
    "# Occupancy Detection with ML and DL Methods\n",
    "\n",
    "# Introduction:\n",
    "This task presents an analysis of occupancy detection using various machine learning models. The goal is to predict the occupancy status of a space based on provided features. A range of classification models have been applied to the dataset, including K-Nearest Neighbors (KNN), Support Vector Machine (SVM), XGBoost, Decision Tree,  and Long Short-Term Memory (LSTM). This documentation provides insights into the performance of these models in predicting occupancy status.\n",
    "\n",
    "# Dataset:\n",
    "The Occupancy Detection dataset contains features related to occupancy and environmental conditions of a space. Each observation includes attributes such as temperature, humidity, and light level. The binary classification task involves predicting whether the space is occupied (1) or unoccupied (0) at a given time.\n",
    "\n",
    "# K-Nearest Neighbors (KNN):\n",
    "The KNN model is a non-parametric model that classifies a new data point based on the majority class of its k nearest neighbors. The KNN model is trained using the training set. The model is then used to predict the occupancy status of the testing set. The accuracy of the model is then calculated by comparing the predicted labels to the actual labels of the testing set. The accuracy of the KNN model is 0.98.\n",
    "\n",
    "# Support Vector Machine (SVM):\n",
    "The SVM model is a supervised learning model that classifies a new data point based on its position relative to a hyperplane. The SVM model is trained using the training set. The model is then used to predict the occupancy status of the testing set. The accuracy of the model is then calculated by comparing the predicted labels to the actual labels of the testing set. The accuracy of the SVM model is 0.975.\n",
    "\n",
    "# XGBoost:\n",
    "The XGBoost model is an ensemble learning model that uses a gradient boosting framework. The XGBoost model is trained using the training set. The model is then used to predict the occupancy status of the testing set. The accuracy of the model is then calculated by comparing the predicted labels to the actual labels of the testing set. The accuracy of the XGBoost model is 0.94.\n",
    "\n",
    "# Decision Tree:\n",
    "The Decision Tree model is a supervised learning model that uses a tree-like structure to classify a new data point. The Decision Tree model is trained using the training set. The model is then used to predict the occupancy status of the testing set. The accuracy of the model is then calculated by comparing the predicted labels to the actual labels of the testing set. The accuracy of the Decision Tree model is 0.82.\n",
    "\n",
    "# Long Short-Term Memory (LSTM):\n",
    "The LSTM model is a recurrent neural network that uses a memory cell to classify a new data point. The LSTM model is trained using the training set. The model is then used to predict the occupancy status of the testing set. The accuracy of the model is then calculated by comparing the predicted labels to the actual labels of the testing set. The accuracy of the LSTM model is 0.84.\n",
    "\n",
    "# Conclusion:\n",
    "The Occupancy Detection Model Comparison analysis provides valuable insights into the performance of various classification models. KNN and SVM demonstrated the highest accuracy scores, closely followed by XGBoost. The documentation offers a comprehensive view of the comparison process, aiding readers in understanding the strengths and weaknesses of each model's performance in predicting occupancy status. This knowledge enables informed decision-making when selecting the most suitable model for occupancy detection scenarios."
   ]
  }
 ],
 "metadata": {
  "kernelspec": {
   "display_name": "Python 3",
   "language": "python",
   "name": "python3"
  },
  "language_info": {
   "codemirror_mode": {
    "name": "ipython",
    "version": 3
   },
   "file_extension": ".py",
   "mimetype": "text/x-python",
   "name": "python",
   "nbconvert_exporter": "python",
   "pygments_lexer": "ipython3",
   "version": "3.9.13"
  },
  "orig_nbformat": 4
 },
 "nbformat": 4,
 "nbformat_minor": 2
}
